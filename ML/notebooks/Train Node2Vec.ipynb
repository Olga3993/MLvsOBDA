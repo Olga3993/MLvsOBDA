{
 "cells": [
  {
   "cell_type": "code",
   "execution_count": 1,
   "id": "c4f3dce9",
   "metadata": {},
   "outputs": [
    {
     "name": "stderr",
     "output_type": "stream",
     "text": [
      "D:\\Nikita\\Projects\\Science\\NEW\\DynGraphModelling\\venv\\lib\\site-packages\\tqdm\\auto.py:22: TqdmWarning: IProgress not found. Please update jupyter and ipywidgets. See https://ipywidgets.readthedocs.io/en/stable/user_install.html\n",
      "  from .autonotebook import tqdm as notebook_tqdm\n"
     ]
    }
   ],
   "source": [
    "from node2vec import Node2Vec\n",
    "import networkx as nx\n",
    "from tqdm import tqdm\n",
    "import numpy as np\n",
    "\n",
    "import sys\n",
    "import os\n",
    "\n",
    "sys.path.append(os.path.dirname('../'))\n",
    "\n",
    "from datasets.deezer import Deezer\n",
    "from datasets.polblogs import Polblogs\n",
    "from datasets.soc_pokec import Soc_pokec\n",
    "from dirs import DATA_PATH"
   ]
  },
  {
   "cell_type": "code",
   "execution_count": 2,
   "id": "568aa4c8",
   "metadata": {},
   "outputs": [],
   "source": [
    "polblogs_dict = Polblogs().get_data()\n",
    "soc_pokec_dict = Soc_pokec().get_data()\n",
    "deezer_dict = Deezer().get_data()"
   ]
  },
  {
   "cell_type": "code",
   "execution_count": 5,
   "id": "df476b28",
   "metadata": {},
   "outputs": [],
   "source": [
    "def train_node2vec(G, dimensions, walk_length, num_walks, window, file_path):\n",
    "    node2vec = Node2Vec(G, dimensions=dimensions, walk_length=walk_length, num_walks=num_walks, workers=2)\n",
    "    model = node2vec.fit(window=window, min_count=1, batch_words=4)\n",
    "    word_vectors = model.wv\n",
    "    nodes = [int(x) for x in word_vectors.key_to_index.keys()]\n",
    "    embeddings = word_vectors.vectors[np.argsort(nodes)]\n",
    "    fname = f'Node2Vec_{dimensions}_{walk_length}_{num_walks}_{window}.npy'\n",
    "    np.save(file_path / fname, embeddings)"
   ]
  },
  {
   "cell_type": "code",
   "execution_count": 7,
   "id": "a7b5095d",
   "metadata": {},
   "outputs": [
    {
     "name": "stderr",
     "output_type": "stream",
     "text": [
      "Computing transition probabilities: 100%|█████████████████████████████████████| 265388/265388 [12:51<00:00, 344.06it/s]\n"
     ]
    }
   ],
   "source": [
    "train_node2vec(G=soc_pokec_dict['graph'],\n",
    "               dimensions=32,\n",
    "               walk_length=8,\n",
    "               num_walks=10,\n",
    "               window=5,\n",
    "               file_path=DATA_PATH / 'pokec-1')"
   ]
  },
  {
   "cell_type": "code",
   "execution_count": 6,
   "id": "807de457",
   "metadata": {},
   "outputs": [
    {
     "name": "stderr",
     "output_type": "stream",
     "text": [
      "Computing transition probabilities: 100%|██████████████████████████████████████| 28281/28281 [00:08<00:00, 3270.22it/s]\n"
     ]
    }
   ],
   "source": [
    "train_node2vec(G=deezer_dict['graph'],\n",
    "               dimensions=32,\n",
    "               walk_length=10,\n",
    "               num_walks=10,\n",
    "               window=10,\n",
    "               file_path=DATA_PATH / 'deezer')"
   ]
  },
  {
   "cell_type": "code",
   "execution_count": null,
   "id": "c261251a",
   "metadata": {},
   "outputs": [],
   "source": []
  }
 ],
 "metadata": {
  "kernelspec": {
   "display_name": "Python 3 (ipykernel)",
   "language": "python",
   "name": "python3"
  },
  "language_info": {
   "codemirror_mode": {
    "name": "ipython",
    "version": 3
   },
   "file_extension": ".py",
   "mimetype": "text/x-python",
   "name": "python",
   "nbconvert_exporter": "python",
   "pygments_lexer": "ipython3",
   "version": "3.10.7"
  }
 },
 "nbformat": 4,
 "nbformat_minor": 5
}
